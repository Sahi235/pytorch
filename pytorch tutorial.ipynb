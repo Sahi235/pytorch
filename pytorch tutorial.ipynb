{
 "cells": [
  {
   "cell_type": "code",
   "execution_count": 1,
   "id": "fdb78b21",
   "metadata": {
    "scrolled": false
   },
   "outputs": [
    {
     "name": "stdout",
     "output_type": "stream",
     "text": [
      "1.12.1\n"
     ]
    }
   ],
   "source": [
    "import torch\n",
    "import numpy as np\n",
    "import pandas as pd\n",
    "import seaborn as sns\n",
    "import matplotlib.pyplot as plt\n",
    "%matplotlib inline\n",
    "print(torch.__version__)"
   ]
  },
  {
   "cell_type": "markdown",
   "id": "36d8677b",
   "metadata": {},
   "source": [
    "# Tensors"
   ]
  },
  {
   "cell_type": "markdown",
   "id": "5cae010d",
   "metadata": {},
   "source": [
    "### Scalar Tensor"
   ]
  },
  {
   "cell_type": "code",
   "execution_count": 15,
   "id": "137d08d9",
   "metadata": {},
   "outputs": [
    {
     "data": {
      "text/plain": [
       "7"
      ]
     },
     "execution_count": 15,
     "metadata": {},
     "output_type": "execute_result"
    }
   ],
   "source": [
    "scalar = torch.tensor(7)\n",
    "scalar.item()"
   ]
  },
  {
   "cell_type": "markdown",
   "id": "d556f0ec",
   "metadata": {},
   "source": [
    "### Vector Tensor"
   ]
  },
  {
   "cell_type": "code",
   "execution_count": 16,
   "id": "7fd39ab1",
   "metadata": {},
   "outputs": [],
   "source": [
    "vector = torch.tensor([7,7])"
   ]
  },
  {
   "cell_type": "code",
   "execution_count": 17,
   "id": "48aeafa9",
   "metadata": {},
   "outputs": [
    {
     "data": {
      "text/plain": [
       "1"
      ]
     },
     "execution_count": 17,
     "metadata": {},
     "output_type": "execute_result"
    }
   ],
   "source": [
    "vector.ndim"
   ]
  },
  {
   "cell_type": "code",
   "execution_count": 18,
   "id": "293830b1",
   "metadata": {},
   "outputs": [
    {
     "data": {
      "text/plain": [
       "torch.Size([2])"
      ]
     },
     "execution_count": 18,
     "metadata": {},
     "output_type": "execute_result"
    }
   ],
   "source": [
    "vector.shape"
   ]
  },
  {
   "cell_type": "markdown",
   "id": "18f60f01",
   "metadata": {},
   "source": [
    "### Matrix Tensor"
   ]
  },
  {
   "cell_type": "code",
   "execution_count": 20,
   "id": "d695930b",
   "metadata": {},
   "outputs": [],
   "source": [
    "MATRIX = torch.tensor([[7,7], [8,8], [9,9]])"
   ]
  },
  {
   "cell_type": "markdown",
   "id": "a9bdd300",
   "metadata": {},
   "source": [
    "# Random Tensor"
   ]
  },
  {
   "cell_type": "code",
   "execution_count": 35,
   "id": "3b6bb086",
   "metadata": {},
   "outputs": [],
   "source": [
    "RAND_TENSOR = torch.rand(size=(3,3))"
   ]
  },
  {
   "cell_type": "code",
   "execution_count": 36,
   "id": "a161b204",
   "metadata": {},
   "outputs": [
    {
     "data": {
      "text/plain": [
       "tensor([[0.1637, 0.6263, 0.7663],\n",
       "        [0.7346, 0.3872, 0.8702],\n",
       "        [0.8850, 0.5652, 0.5354]])"
      ]
     },
     "execution_count": 36,
     "metadata": {},
     "output_type": "execute_result"
    }
   ],
   "source": [
    "RAND_TENSOR"
   ]
  },
  {
   "cell_type": "markdown",
   "id": "a689ecf9",
   "metadata": {},
   "source": [
    "# Zeros and Ones Tensor"
   ]
  },
  {
   "cell_type": "code",
   "execution_count": 37,
   "id": "4812fc61",
   "metadata": {},
   "outputs": [],
   "source": [
    "zero_tensor = torch.zeros(size=(5,4))"
   ]
  },
  {
   "cell_type": "code",
   "execution_count": 38,
   "id": "8fec7628",
   "metadata": {},
   "outputs": [
    {
     "data": {
      "text/plain": [
       "tensor([[0., 0., 0., 0.],\n",
       "        [0., 0., 0., 0.],\n",
       "        [0., 0., 0., 0.],\n",
       "        [0., 0., 0., 0.],\n",
       "        [0., 0., 0., 0.]])"
      ]
     },
     "execution_count": 38,
     "metadata": {},
     "output_type": "execute_result"
    }
   ],
   "source": [
    "zero_tensor"
   ]
  },
  {
   "cell_type": "code",
   "execution_count": 39,
   "id": "5d7c63f0",
   "metadata": {},
   "outputs": [],
   "source": [
    "one_tensor = torch.ones(size=(5,4))"
   ]
  },
  {
   "cell_type": "code",
   "execution_count": 40,
   "id": "cb9cae12",
   "metadata": {},
   "outputs": [
    {
     "data": {
      "text/plain": [
       "tensor([[1., 1., 1., 1.],\n",
       "        [1., 1., 1., 1.],\n",
       "        [1., 1., 1., 1.],\n",
       "        [1., 1., 1., 1.],\n",
       "        [1., 1., 1., 1.]])"
      ]
     },
     "execution_count": 40,
     "metadata": {},
     "output_type": "execute_result"
    }
   ],
   "source": [
    "one_tensor"
   ]
  },
  {
   "cell_type": "markdown",
   "id": "1ae71d42",
   "metadata": {},
   "source": [
    "# Creating range of Tensors"
   ]
  },
  {
   "cell_type": "code",
   "execution_count": 58,
   "id": "86c5b10a",
   "metadata": {},
   "outputs": [],
   "source": [
    "range_till_hundred_by_two = torch.arange(0,100).reshape(2,5,10)"
   ]
  },
  {
   "cell_type": "code",
   "execution_count": 59,
   "id": "49b414e6",
   "metadata": {},
   "outputs": [
    {
     "data": {
      "text/plain": [
       "tensor([[[ 0,  1,  2,  3,  4,  5,  6,  7,  8,  9],\n",
       "         [10, 11, 12, 13, 14, 15, 16, 17, 18, 19],\n",
       "         [20, 21, 22, 23, 24, 25, 26, 27, 28, 29],\n",
       "         [30, 31, 32, 33, 34, 35, 36, 37, 38, 39],\n",
       "         [40, 41, 42, 43, 44, 45, 46, 47, 48, 49]],\n",
       "\n",
       "        [[50, 51, 52, 53, 54, 55, 56, 57, 58, 59],\n",
       "         [60, 61, 62, 63, 64, 65, 66, 67, 68, 69],\n",
       "         [70, 71, 72, 73, 74, 75, 76, 77, 78, 79],\n",
       "         [80, 81, 82, 83, 84, 85, 86, 87, 88, 89],\n",
       "         [90, 91, 92, 93, 94, 95, 96, 97, 98, 99]]])"
      ]
     },
     "execution_count": 59,
     "metadata": {},
     "output_type": "execute_result"
    }
   ],
   "source": [
    "range_till_hundred_by_two"
   ]
  },
  {
   "cell_type": "code",
   "execution_count": 60,
   "id": "09ce3783",
   "metadata": {},
   "outputs": [],
   "source": [
    "zero_like = torch.zeros_like(range_till_hundred_by_two)"
   ]
  },
  {
   "cell_type": "code",
   "execution_count": 62,
   "id": "47fb71bf",
   "metadata": {},
   "outputs": [
    {
     "data": {
      "text/plain": [
       "tensor([[[0, 0, 0, 0, 0, 0, 0, 0, 0, 0],\n",
       "         [0, 0, 0, 0, 0, 0, 0, 0, 0, 0],\n",
       "         [0, 0, 0, 0, 0, 0, 0, 0, 0, 0],\n",
       "         [0, 0, 0, 0, 0, 0, 0, 0, 0, 0],\n",
       "         [0, 0, 0, 0, 0, 0, 0, 0, 0, 0]],\n",
       "\n",
       "        [[0, 0, 0, 0, 0, 0, 0, 0, 0, 0],\n",
       "         [0, 0, 0, 0, 0, 0, 0, 0, 0, 0],\n",
       "         [0, 0, 0, 0, 0, 0, 0, 0, 0, 0],\n",
       "         [0, 0, 0, 0, 0, 0, 0, 0, 0, 0],\n",
       "         [0, 0, 0, 0, 0, 0, 0, 0, 0, 0]]])"
      ]
     },
     "execution_count": 62,
     "metadata": {},
     "output_type": "execute_result"
    }
   ],
   "source": [
    "zero_like"
   ]
  },
  {
   "cell_type": "code",
   "execution_count": 81,
   "id": "b9975569",
   "metadata": {},
   "outputs": [],
   "source": [
    "float_16_tensor = torch.tensor([x for x in range(100000005)],\n",
    "                               dtype=torch.float64, # it determines datatype of elements\n",
    "                               device='cuda', # it \n",
    "                               requires_grad=False\n",
    "                              )"
   ]
  },
  {
   "cell_type": "code",
   "execution_count": 85,
   "id": "c6fb5ff5",
   "metadata": {},
   "outputs": [],
   "source": [
    "float_16_tensor2 = torch.tensor([x for x in range(100000005)],\n",
    "                               dtype=torch.float64, # it determines datatype of elements\n",
    "                               device='cuda', # it \n",
    "                               requires_grad=False\n",
    "                              )"
   ]
  },
  {
   "cell_type": "code",
   "execution_count": 88,
   "id": "c9b1e355",
   "metadata": {},
   "outputs": [
    {
     "data": {
      "text/plain": [
       "torch.Tensor"
      ]
     },
     "execution_count": 88,
     "metadata": {},
     "output_type": "execute_result"
    }
   ],
   "source": [
    "type(float_16_tensor2.type(torch.float32))"
   ]
  },
  {
   "cell_type": "code",
   "execution_count": null,
   "id": "7fd68e3f",
   "metadata": {},
   "outputs": [],
   "source": []
  }
 ],
 "metadata": {
  "kernelspec": {
   "display_name": "Python 3 (ipykernel)",
   "language": "python",
   "name": "python3"
  },
  "language_info": {
   "codemirror_mode": {
    "name": "ipython",
    "version": 3
   },
   "file_extension": ".py",
   "mimetype": "text/x-python",
   "name": "python",
   "nbconvert_exporter": "python",
   "pygments_lexer": "ipython3",
   "version": "3.9.12"
  }
 },
 "nbformat": 4,
 "nbformat_minor": 5
}
